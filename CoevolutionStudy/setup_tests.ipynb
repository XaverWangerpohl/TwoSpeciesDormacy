{
 "cells": [
  {
   "cell_type": "code",
   "execution_count": 1,
   "id": "99a9d2f3",
   "metadata": {},
   "outputs": [
    {
     "name": "stderr",
     "output_type": "stream",
     "text": [
      "Matplotlib is building the font cache; this may take a moment.\n"
     ]
    }
   ],
   "source": [
    "import tellurium as te"
   ]
  },
  {
   "cell_type": "code",
   "execution_count": 5,
   "id": "2ead957c",
   "metadata": {},
   "outputs": [
    {
     "ename": "Exception",
     "evalue": "Antimony: Error in model string, line 1:  syntax error, unexpected '/'",
     "output_type": "error",
     "traceback": [
      "\u001b[0;31m---------------------------------------------------------------------------\u001b[0m",
      "\u001b[0;31mException\u001b[0m                                 Traceback (most recent call last)",
      "Cell \u001b[0;32mIn[5], line 1\u001b[0m\n\u001b[0;32m----> 1\u001b[0m rr \u001b[38;5;241m=\u001b[39m \u001b[43mte\u001b[49m\u001b[38;5;241;43m.\u001b[39;49m\u001b[43mloadAntimonyModel\u001b[49m\u001b[43m(\u001b[49m\u001b[38;5;124;43m'\u001b[39;49m\u001b[38;5;124;43mmodels/birth_death.ant\u001b[39;49m\u001b[38;5;124;43m'\u001b[39;49m\u001b[43m)\u001b[49m\n\u001b[1;32m      3\u001b[0m \u001b[38;5;66;03m# (Optional) Inspect or save SBML\u001b[39;00m\n\u001b[1;32m      4\u001b[0m sbml \u001b[38;5;241m=\u001b[39m rr\u001b[38;5;241m.\u001b[39mgetSBML()\n",
      "File \u001b[0;32m~/anaconda3/envs/coevolution/lib/python3.9/site-packages/tellurium/tellurium.py:538\u001b[0m, in \u001b[0;36mloadAntimonyModel\u001b[0;34m(ant)\u001b[0m\n\u001b[1;32m    525\u001b[0m \u001b[38;5;28;01mdef\u001b[39;00m\u001b[38;5;250m \u001b[39m\u001b[38;5;21mloadAntimonyModel\u001b[39m(ant):\n\u001b[1;32m    526\u001b[0m \u001b[38;5;250m    \u001b[39m\u001b[38;5;124;03m\"\"\"Load Antimony model with tellurium.\u001b[39;00m\n\u001b[1;32m    527\u001b[0m \n\u001b[1;32m    528\u001b[0m \u001b[38;5;124;03m    See also: :func:`loada`\u001b[39;00m\n\u001b[0;32m   (...)\u001b[0m\n\u001b[1;32m    536\u001b[0m \u001b[38;5;124;03m    :rtype: roadrunner.ExtendedRoadRunner\u001b[39;00m\n\u001b[1;32m    537\u001b[0m \u001b[38;5;124;03m    \"\"\"\u001b[39;00m\n\u001b[0;32m--> 538\u001b[0m     sbml \u001b[38;5;241m=\u001b[39m \u001b[43mantimonyToSBML\u001b[49m\u001b[43m(\u001b[49m\u001b[43mant\u001b[49m\u001b[43m)\u001b[49m\n\u001b[1;32m    539\u001b[0m     \u001b[38;5;28;01mreturn\u001b[39;00m roadrunner\u001b[38;5;241m.\u001b[39mRoadRunner(sbml)\n",
      "File \u001b[0;32m~/anaconda3/envs/coevolution/lib/python3.9/site-packages/tellurium/tellurium.py:605\u001b[0m, in \u001b[0;36mantimonyToSBML\u001b[0;34m(ant)\u001b[0m\n\u001b[1;32m    603\u001b[0m \u001b[38;5;28;01melse\u001b[39;00m:\n\u001b[1;32m    604\u001b[0m     code \u001b[38;5;241m=\u001b[39m antimony\u001b[38;5;241m.\u001b[39mloadAntimonyString(ant)\n\u001b[0;32m--> 605\u001b[0m \u001b[43m_checkAntimonyReturnCode\u001b[49m\u001b[43m(\u001b[49m\u001b[43mcode\u001b[49m\u001b[43m)\u001b[49m\n\u001b[1;32m    606\u001b[0m mid \u001b[38;5;241m=\u001b[39m antimony\u001b[38;5;241m.\u001b[39mgetMainModuleName()\n\u001b[1;32m    607\u001b[0m \u001b[38;5;28;01mreturn\u001b[39;00m antimony\u001b[38;5;241m.\u001b[39mgetSBMLString(mid)\n",
      "File \u001b[0;32m~/anaconda3/envs/coevolution/lib/python3.9/site-packages/tellurium/tellurium.py:297\u001b[0m, in \u001b[0;36m_checkAntimonyReturnCode\u001b[0;34m(code)\u001b[0m\n\u001b[1;32m    290\u001b[0m \u001b[38;5;250m\u001b[39m\u001b[38;5;124;03m\"\"\" Helper for checking the antimony response code.\u001b[39;00m\n\u001b[1;32m    291\u001b[0m \u001b[38;5;124;03mRaises Exception if error in antimony.\u001b[39;00m\n\u001b[1;32m    292\u001b[0m \n\u001b[1;32m    293\u001b[0m \u001b[38;5;124;03m:param code: antimony response\u001b[39;00m\n\u001b[1;32m    294\u001b[0m \u001b[38;5;124;03m:type code: int\u001b[39;00m\n\u001b[1;32m    295\u001b[0m \u001b[38;5;124;03m\"\"\"\u001b[39;00m\n\u001b[1;32m    296\u001b[0m \u001b[38;5;28;01mif\u001b[39;00m code \u001b[38;5;241m<\u001b[39m \u001b[38;5;241m0\u001b[39m:\n\u001b[0;32m--> 297\u001b[0m     \u001b[38;5;28;01mraise\u001b[39;00m \u001b[38;5;167;01mException\u001b[39;00m(\u001b[38;5;124m'\u001b[39m\u001b[38;5;124mAntimony: \u001b[39m\u001b[38;5;132;01m{}\u001b[39;00m\u001b[38;5;124m'\u001b[39m\u001b[38;5;241m.\u001b[39mformat(antimony\u001b[38;5;241m.\u001b[39mgetLastError()))\n",
      "\u001b[0;31mException\u001b[0m: Antimony: Error in model string, line 1:  syntax error, unexpected '/'"
     ]
    }
   ],
   "source": [
    "rr = te.loadAntimonyModel('models/birth_death.ant')\n",
    "\n",
    "# (Optional) Inspect or save SBML\n",
    "sbml = rr.getSBML()\n",
    "with open('test_model.txt','w') as f:\n",
    "    f.write(sbml)"
   ]
  },
  {
   "cell_type": "code",
   "execution_count": 3,
   "id": "0390528b",
   "metadata": {},
   "outputs": [],
   "source": [
    "import tellurium as te\n",
    "\n",
    "# 1) Declare your Antimony model as a Python string\n",
    "ant = \"\"\"\n",
    "model birth_death()\n",
    "  // species\n",
    "  X = 100\n",
    "  // parameters\n",
    "  lambda = 0.75\n",
    "  mu     = 0.25\n",
    "  // reactions\n",
    "  J_birth: => X;       lambda * X\n",
    "  J_death: X => ;      mu     * X\n",
    "end\n",
    "\"\"\"\n",
    "\n",
    "# 2) Load it directly\n",
    "rr = te.loadAntimonyModel(ant)\n",
    "\n",
    "# 3) Convert & save to SBML if desired\n",
    "with open('birth_death.xml','w') as f:\n",
    "    f.write(rr.getSBML())"
   ]
  },
  {
   "cell_type": "code",
   "execution_count": 4,
   "id": "b8faafb2",
   "metadata": {},
   "outputs": [
    {
     "data": {
      "text/plain": [
       "<_io.TextIOWrapper name='birth_death.xml' mode='w' encoding='UTF-8'>"
      ]
     },
     "execution_count": 4,
     "metadata": {},
     "output_type": "execute_result"
    }
   ],
   "source": [
    "f"
   ]
  }
 ],
 "metadata": {
  "kernelspec": {
   "display_name": "coevolution",
   "language": "python",
   "name": "python3"
  },
  "language_info": {
   "codemirror_mode": {
    "name": "ipython",
    "version": 3
   },
   "file_extension": ".py",
   "mimetype": "text/x-python",
   "name": "python",
   "nbconvert_exporter": "python",
   "pygments_lexer": "ipython3",
   "version": "3.9.23"
  }
 },
 "nbformat": 4,
 "nbformat_minor": 5
}
